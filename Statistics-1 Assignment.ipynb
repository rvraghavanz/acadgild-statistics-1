{
 "cells": [
  {
   "cell_type": "markdown",
   "metadata": {},
   "source": [
    "<B> Problem Statement 1:</B>\n",
    "You survey households in your area to find the average rent they are paying. Find the\n",
    "standard deviation from the following data:$1550, $1700, $900, $850, $1000, $950."
   ]
  },
  {
   "cell_type": "code",
   "execution_count": 1,
   "metadata": {},
   "outputs": [],
   "source": [
    "import numpy as np\n",
    "import pandas as pd\n",
    "from matplotlib import pyplot as plt"
   ]
  },
  {
   "cell_type": "code",
   "execution_count": 2,
   "metadata": {},
   "outputs": [],
   "source": [
    "# Array of household salary\n",
    "sal_ = np.array([1550, 1700, 900, 850, 1000, 950])"
   ]
  },
  {
   "cell_type": "code",
   "execution_count": 15,
   "metadata": {},
   "outputs": [
    {
     "name": "stdout",
     "output_type": "stream",
     "text": [
      "The mean is:1158.3333333333333\n"
     ]
    }
   ],
   "source": [
    "# Mean of Household Salary\n",
    "salmean_= sal_.mean()\n",
    "print('The mean is' + ':' + str(salmean_))"
   ]
  },
  {
   "cell_type": "code",
   "execution_count": 16,
   "metadata": {},
   "outputs": [
    {
     "name": "stdout",
     "output_type": "stream",
     "text": [
      "The variance is:112847.22222222223\n"
     ]
    }
   ],
   "source": [
    "# Find the variance\n",
    "variance_= (sal_- np.mean(sal_))**2\n",
    "variance_= np.mean(variance_)\n",
    "print('The variance is' + ':' + str(variance_))"
   ]
  },
  {
   "cell_type": "code",
   "execution_count": 17,
   "metadata": {},
   "outputs": [
    {
     "name": "stdout",
     "output_type": "stream",
     "text": [
      "The Standard Deviation is:335.92740617910624\n"
     ]
    }
   ],
   "source": [
    "# find the Standard Deviation\n",
    "std_= np.sqrt(variance_)\n",
    "print('The Standard Deviation is' + ':' + str(std_))"
   ]
  },
  {
   "cell_type": "code",
   "execution_count": 18,
   "metadata": {},
   "outputs": [
    {
     "name": "stdout",
     "output_type": "stream",
     "text": [
      "The Standard Deviation is:335.92740617910624\n"
     ]
    }
   ],
   "source": [
    "# Standard Deviation using the numpy method\n",
    "\n",
    "print('The Standard Deviation is' + ':' + str(np.std(sal_)))"
   ]
  },
  {
   "cell_type": "markdown",
   "metadata": {},
   "source": [
    "<B>Problem Statement 2:</B>\n",
    "Find the variance for the following set of data representing trees in California (heights in\n",
    "feet):3, 21, 98, 203, 17, 9"
   ]
  },
  {
   "cell_type": "code",
   "execution_count": 12,
   "metadata": {},
   "outputs": [],
   "source": [
    "# Array of California Tree in Heights (measure in feets)\n",
    "height_= np.array([3, 21, 98, 203, 17, 9])"
   ]
  },
  {
   "cell_type": "code",
   "execution_count": 19,
   "metadata": {},
   "outputs": [
    {
     "name": "stdout",
     "output_type": "stream",
     "text": [
      "The mean is:58.5\n"
     ]
    }
   ],
   "source": [
    "# Find the mean\n",
    "ht_mean_ =np.mean(height_)\n",
    "print('The mean is' + ':' + str(ht_mean_))"
   ]
  },
  {
   "cell_type": "code",
   "execution_count": 21,
   "metadata": {},
   "outputs": [
    {
     "name": "stdout",
     "output_type": "stream",
     "text": [
      "The median is:19.0\n"
     ]
    }
   ],
   "source": [
    "# Find the Median\n",
    "ht_median_ =np.median(height_)\n",
    "print('The median is' + ':' + str(ht_median_))"
   ]
  },
  {
   "cell_type": "code",
   "execution_count": 24,
   "metadata": {},
   "outputs": [
    {
     "name": "stdout",
     "output_type": "stream",
     "text": [
      "The variance is:5183.25\n"
     ]
    }
   ],
   "source": [
    "# Find the variance\n",
    "height_var_= (height_- np.mean(height_))**2\n",
    "height_var_= np.mean(height_var_)\n",
    "print('The variance is' + ':' + str(height_var_))"
   ]
  },
  {
   "cell_type": "markdown",
   "metadata": {},
   "source": [
    "<B>Problem Statement 3:</B>\n",
    "In a class on 100 students, 80 students passed in all subjects, 10 failed in one subject, 7\n",
    "failed in two subjects and 3 failed in three subjects. Find the probability distribution of\n",
    "the variable for number of subjects a student from the given class has failed in."
   ]
  },
  {
   "cell_type": "code",
   "execution_count": 25,
   "metadata": {},
   "outputs": [
    {
     "name": "stdout",
     "output_type": "stream",
     "text": [
      "For a random student probablity of failing in number of subject X is below\n",
      "P(X=0)= 0.8\n",
      "P(X=1)= 0.1\n",
      "P(X=2)= 0.07\n",
      "P(X=3)= 0.03\n",
      "\n",
      "\n",
      "PDF should looks like below\n",
      "X \t 0 \t 1 \t 2 \t 3\n",
      "P(X) \t 0.80 \t 0.10 \t 0.07 \t 0.03\n"
     ]
    }
   ],
   "source": [
    "#initialise the number of students and failure count among them\n",
    "std_tot=100\n",
    "std_fail_0=80 #passed all subjects\n",
    "std_fail_1=10 #failed in 1 sub\n",
    "std_fail_2=7 #failed in 2 sub\n",
    "std_fail_3=3 #failed in 3 sub\n",
    "\n",
    "#probablity of failiong none, 1, 2, 3 subjects respectively\n",
    "p_fail_0=std_fail_0/std_tot\n",
    "p_fail_1=std_fail_1/std_tot\n",
    "p_fail_2=std_fail_2/std_tot\n",
    "p_fail_3=std_fail_3/std_tot\n",
    "\n",
    "print(\"For a random student probablity of failing in number of subject X is below\")\n",
    "print(\"P(X=0)=\",p_fail_0)\n",
    "print(\"P(X=1)=\",p_fail_1)\n",
    "print(\"P(X=2)=\",p_fail_2)\n",
    "print(\"P(X=3)=\",p_fail_3)\n",
    "print(\"\\n\")\n",
    "print(\"PDF should looks like below\")\n",
    "print(\"X \\t 0 \\t 1 \\t 2 \\t 3\")\n",
    "print(\"P(X) \\t %0.2f \\t %0.2f \\t %0.2f \\t %0.2f\" %(p_fail_0,p_fail_1,p_fail_2,p_fail_3))"
   ]
  },
  {
   "cell_type": "code",
   "execution_count": null,
   "metadata": {},
   "outputs": [],
   "source": []
  }
 ],
 "metadata": {
  "kernelspec": {
   "display_name": "Python 3",
   "language": "python",
   "name": "python3"
  },
  "language_info": {
   "codemirror_mode": {
    "name": "ipython",
    "version": 3
   },
   "file_extension": ".py",
   "mimetype": "text/x-python",
   "name": "python",
   "nbconvert_exporter": "python",
   "pygments_lexer": "ipython3",
   "version": "3.6.6"
  }
 },
 "nbformat": 4,
 "nbformat_minor": 2
}
